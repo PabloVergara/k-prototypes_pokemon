{
 "cells": [
  {
   "cell_type": "code",
   "execution_count": 1,
   "metadata": {},
   "outputs": [],
   "source": [
    "import pandas as pd\n",
    "import numpy as np\n",
    "from sklearn import datasets\n",
    "from kmodes.kprototypes import KPrototypes\n",
    "import matplotlib.pyplot as plt \n",
    "from matplotlib import style"
   ]
  },
  {
   "cell_type": "code",
   "execution_count": 2,
   "metadata": {},
   "outputs": [
    {
     "data": {
      "text/html": [
       "<div>\n",
       "<style scoped>\n",
       "    .dataframe tbody tr th:only-of-type {\n",
       "        vertical-align: middle;\n",
       "    }\n",
       "\n",
       "    .dataframe tbody tr th {\n",
       "        vertical-align: top;\n",
       "    }\n",
       "\n",
       "    .dataframe thead th {\n",
       "        text-align: right;\n",
       "    }\n",
       "</style>\n",
       "<table border=\"1\" class=\"dataframe\">\n",
       "  <thead>\n",
       "    <tr style=\"text-align: right;\">\n",
       "      <th></th>\n",
       "      <th>#</th>\n",
       "      <th>Name</th>\n",
       "      <th>Type 1</th>\n",
       "      <th>Type 2</th>\n",
       "      <th>Total</th>\n",
       "      <th>HP</th>\n",
       "      <th>Attack</th>\n",
       "      <th>Defense</th>\n",
       "      <th>Sp. Atk</th>\n",
       "      <th>Sp. Def</th>\n",
       "      <th>Speed</th>\n",
       "      <th>Generation</th>\n",
       "      <th>Legendary</th>\n",
       "    </tr>\n",
       "  </thead>\n",
       "  <tbody>\n",
       "    <tr>\n",
       "      <th>0</th>\n",
       "      <td>1</td>\n",
       "      <td>Bulbasaur</td>\n",
       "      <td>Grass</td>\n",
       "      <td>Poison</td>\n",
       "      <td>318</td>\n",
       "      <td>45</td>\n",
       "      <td>49</td>\n",
       "      <td>49</td>\n",
       "      <td>65</td>\n",
       "      <td>65</td>\n",
       "      <td>45</td>\n",
       "      <td>1</td>\n",
       "      <td>False</td>\n",
       "    </tr>\n",
       "    <tr>\n",
       "      <th>1</th>\n",
       "      <td>2</td>\n",
       "      <td>Ivysaur</td>\n",
       "      <td>Grass</td>\n",
       "      <td>Poison</td>\n",
       "      <td>405</td>\n",
       "      <td>60</td>\n",
       "      <td>62</td>\n",
       "      <td>63</td>\n",
       "      <td>80</td>\n",
       "      <td>80</td>\n",
       "      <td>60</td>\n",
       "      <td>1</td>\n",
       "      <td>False</td>\n",
       "    </tr>\n",
       "    <tr>\n",
       "      <th>2</th>\n",
       "      <td>3</td>\n",
       "      <td>Venusaur</td>\n",
       "      <td>Grass</td>\n",
       "      <td>Poison</td>\n",
       "      <td>525</td>\n",
       "      <td>80</td>\n",
       "      <td>82</td>\n",
       "      <td>83</td>\n",
       "      <td>100</td>\n",
       "      <td>100</td>\n",
       "      <td>80</td>\n",
       "      <td>1</td>\n",
       "      <td>False</td>\n",
       "    </tr>\n",
       "    <tr>\n",
       "      <th>3</th>\n",
       "      <td>3</td>\n",
       "      <td>VenusaurMega Venusaur</td>\n",
       "      <td>Grass</td>\n",
       "      <td>Poison</td>\n",
       "      <td>625</td>\n",
       "      <td>80</td>\n",
       "      <td>100</td>\n",
       "      <td>123</td>\n",
       "      <td>122</td>\n",
       "      <td>120</td>\n",
       "      <td>80</td>\n",
       "      <td>1</td>\n",
       "      <td>False</td>\n",
       "    </tr>\n",
       "    <tr>\n",
       "      <th>4</th>\n",
       "      <td>4</td>\n",
       "      <td>Charmander</td>\n",
       "      <td>Fire</td>\n",
       "      <td>NaN</td>\n",
       "      <td>309</td>\n",
       "      <td>39</td>\n",
       "      <td>52</td>\n",
       "      <td>43</td>\n",
       "      <td>60</td>\n",
       "      <td>50</td>\n",
       "      <td>65</td>\n",
       "      <td>1</td>\n",
       "      <td>False</td>\n",
       "    </tr>\n",
       "  </tbody>\n",
       "</table>\n",
       "</div>"
      ],
      "text/plain": [
       "   #                   Name Type 1  Type 2  Total  HP  Attack  Defense  \\\n",
       "0  1              Bulbasaur  Grass  Poison    318  45      49       49   \n",
       "1  2                Ivysaur  Grass  Poison    405  60      62       63   \n",
       "2  3               Venusaur  Grass  Poison    525  80      82       83   \n",
       "3  3  VenusaurMega Venusaur  Grass  Poison    625  80     100      123   \n",
       "4  4             Charmander   Fire     NaN    309  39      52       43   \n",
       "\n",
       "   Sp. Atk  Sp. Def  Speed  Generation  Legendary  \n",
       "0       65       65     45           1      False  \n",
       "1       80       80     60           1      False  \n",
       "2      100      100     80           1      False  \n",
       "3      122      120     80           1      False  \n",
       "4       60       50     65           1      False  "
      ]
     },
     "execution_count": 2,
     "metadata": {},
     "output_type": "execute_result"
    }
   ],
   "source": [
    "#iris = datasets.load_iris()\n",
    "pokemon= pd.read_excel('Pokemon.xlsx')\n",
    "#data = pd.DataFrame(data = np.c_[iris['data'], iris['target']],\n",
    "#                    columns = iris['feature_names'] + ['target'])\n",
    "data= pokemon.copy()\n",
    "pokemon.head()"
   ]
  },
  {
   "cell_type": "code",
   "execution_count": 3,
   "metadata": {},
   "outputs": [
    {
     "data": {
      "text/html": [
       "<div>\n",
       "<style scoped>\n",
       "    .dataframe tbody tr th:only-of-type {\n",
       "        vertical-align: middle;\n",
       "    }\n",
       "\n",
       "    .dataframe tbody tr th {\n",
       "        vertical-align: top;\n",
       "    }\n",
       "\n",
       "    .dataframe thead th {\n",
       "        text-align: right;\n",
       "    }\n",
       "</style>\n",
       "<table border=\"1\" class=\"dataframe\">\n",
       "  <thead>\n",
       "    <tr style=\"text-align: right;\">\n",
       "      <th></th>\n",
       "      <th>Type 1</th>\n",
       "      <th>Total</th>\n",
       "      <th>HP</th>\n",
       "      <th>Attack</th>\n",
       "      <th>Defense</th>\n",
       "      <th>Sp. Atk</th>\n",
       "      <th>Sp. Def</th>\n",
       "      <th>Speed</th>\n",
       "      <th>Legendary</th>\n",
       "    </tr>\n",
       "  </thead>\n",
       "  <tbody>\n",
       "    <tr>\n",
       "      <th>0</th>\n",
       "      <td>Grass</td>\n",
       "      <td>318</td>\n",
       "      <td>45</td>\n",
       "      <td>49</td>\n",
       "      <td>49</td>\n",
       "      <td>65</td>\n",
       "      <td>65</td>\n",
       "      <td>45</td>\n",
       "      <td>False</td>\n",
       "    </tr>\n",
       "    <tr>\n",
       "      <th>1</th>\n",
       "      <td>Grass</td>\n",
       "      <td>405</td>\n",
       "      <td>60</td>\n",
       "      <td>62</td>\n",
       "      <td>63</td>\n",
       "      <td>80</td>\n",
       "      <td>80</td>\n",
       "      <td>60</td>\n",
       "      <td>False</td>\n",
       "    </tr>\n",
       "    <tr>\n",
       "      <th>2</th>\n",
       "      <td>Grass</td>\n",
       "      <td>525</td>\n",
       "      <td>80</td>\n",
       "      <td>82</td>\n",
       "      <td>83</td>\n",
       "      <td>100</td>\n",
       "      <td>100</td>\n",
       "      <td>80</td>\n",
       "      <td>False</td>\n",
       "    </tr>\n",
       "    <tr>\n",
       "      <th>3</th>\n",
       "      <td>Grass</td>\n",
       "      <td>625</td>\n",
       "      <td>80</td>\n",
       "      <td>100</td>\n",
       "      <td>123</td>\n",
       "      <td>122</td>\n",
       "      <td>120</td>\n",
       "      <td>80</td>\n",
       "      <td>False</td>\n",
       "    </tr>\n",
       "    <tr>\n",
       "      <th>4</th>\n",
       "      <td>Fire</td>\n",
       "      <td>309</td>\n",
       "      <td>39</td>\n",
       "      <td>52</td>\n",
       "      <td>43</td>\n",
       "      <td>60</td>\n",
       "      <td>50</td>\n",
       "      <td>65</td>\n",
       "      <td>False</td>\n",
       "    </tr>\n",
       "  </tbody>\n",
       "</table>\n",
       "</div>"
      ],
      "text/plain": [
       "  Type 1  Total  HP  Attack  Defense  Sp. Atk  Sp. Def  Speed  Legendary\n",
       "0  Grass    318  45      49       49       65       65     45      False\n",
       "1  Grass    405  60      62       63       80       80     60      False\n",
       "2  Grass    525  80      82       83      100      100     80      False\n",
       "3  Grass    625  80     100      123      122      120     80      False\n",
       "4   Fire    309  39      52       43       60       50     65      False"
      ]
     },
     "execution_count": 3,
     "metadata": {},
     "output_type": "execute_result"
    }
   ],
   "source": [
    "data=data.drop(['#','Name', 'Type 2','Generation'], axis=1)\n",
    "data.head()"
   ]
  },
  {
   "cell_type": "code",
   "execution_count": 4,
   "metadata": {},
   "outputs": [
    {
     "name": "stdout",
     "output_type": "stream",
     "text": [
      "Init: initializing centroids\n",
      "Init: initializing clusters\n",
      "Starting iterations...\n",
      "Run: 1, iteration: 1/100, moves: 198, ncost: 3250793.113315296\n",
      "Run: 1, iteration: 2/100, moves: 78, ncost: 3187145.057112411\n",
      "Run: 1, iteration: 3/100, moves: 45, ncost: 3159866.8264045217\n",
      "Run: 1, iteration: 4/100, moves: 27, ncost: 3152462.1737777246\n",
      "Run: 1, iteration: 5/100, moves: 8, ncost: 3149673.433030329\n",
      "Run: 1, iteration: 6/100, moves: 8, ncost: 3148170.570581539\n",
      "Run: 1, iteration: 7/100, moves: 9, ncost: 3146229.6544608306\n",
      "Run: 1, iteration: 8/100, moves: 8, ncost: 3144517.31689283\n",
      "Run: 1, iteration: 9/100, moves: 9, ncost: 3142680.084901745\n",
      "Run: 1, iteration: 10/100, moves: 10, ncost: 3138156.8272300833\n",
      "Run: 1, iteration: 11/100, moves: 9, ncost: 3135289.252163089\n",
      "Run: 1, iteration: 12/100, moves: 10, ncost: 3133864.6166299838\n",
      "Run: 1, iteration: 13/100, moves: 4, ncost: 3133108.917090183\n",
      "Run: 1, iteration: 14/100, moves: 1, ncost: 3133038.8460411406\n",
      "Run: 1, iteration: 15/100, moves: 3, ncost: 3132787.379610948\n",
      "Run: 1, iteration: 16/100, moves: 0, ncost: 3132787.379610948\n"
     ]
    },
    {
     "data": {
      "text/plain": [
       "array([5, 2, 0, 4, 5, 2, 0, 4, 4, 5, 2, 0, 4, 5, 5, 2, 5, 5, 2, 3, 5, 2,\n",
       "       3, 4, 5, 2, 5, 2, 5, 2, 5, 0, 5, 3, 5, 2, 3, 5, 2, 3, 5, 0, 5, 0,\n",
       "       5, 2, 5, 3, 5, 2, 0, 5, 2, 5, 0, 5, 2, 5, 2, 5, 0, 5, 3, 2, 0, 5,\n",
       "       2, 3, 5, 2, 0, 4, 5, 2, 3, 5, 2, 3, 5, 0, 5, 2, 3, 2, 0, 5, 3, 1,\n",
       "       5, 0, 2, 5, 3, 5, 3, 5, 3, 5, 1, 5, 2, 0, 4, 2, 5, 0, 5, 3, 5, 0,\n",
       "       5, 0, 5, 2, 3, 3, 2, 5, 3, 2, 3, 3, 2, 3, 4, 5, 2, 5, 3, 5, 0, 0,\n",
       "       3, 0, 0, 0, 3, 4, 3, 5, 3, 4, 0, 5, 5, 0, 0, 0, 2, 2, 0, 2, 3, 0,\n",
       "       4, 3, 4, 4, 4, 5, 2, 4, 4, 4, 4, 4, 5, 2, 0, 5, 2, 0, 5, 2, 3, 5,\n",
       "       2, 5, 2, 5, 2, 5, 2, 0, 5, 3, 5, 5, 5, 5, 2, 5, 0, 5, 2, 0, 4, 3,\n",
       "       5, 2, 2, 0, 5, 5, 3, 2, 5, 2, 2, 5, 2, 0, 1, 2, 0, 2, 5, 2, 3, 5,\n",
       "       3, 2, 2, 1, 1, 5, 3, 2, 3, 4, 1, 3, 4, 2, 5, 3, 5, 2, 5, 3, 2, 5,\n",
       "       3, 5, 0, 3, 5, 0, 4, 0, 5, 3, 0, 3, 5, 5, 3, 5, 2, 2, 3, 0, 4, 4,\n",
       "       4, 5, 2, 4, 4, 4, 4, 4, 5, 2, 0, 4, 5, 2, 0, 4, 5, 2, 3, 4, 5, 2,\n",
       "       5, 2, 5, 5, 2, 5, 2, 5, 5, 0, 5, 5, 3, 5, 2, 5, 2, 5, 5, 0, 4, 5,\n",
       "       2, 5, 3, 5, 2, 4, 5, 3, 5, 5, 2, 3, 5, 3, 5, 2, 5, 2, 2, 1, 2, 3,\n",
       "       5, 2, 1, 1, 5, 2, 0, 5, 0, 4, 2, 2, 2, 2, 2, 5, 3, 5, 3, 4, 2, 3,\n",
       "       5, 3, 0, 3, 5, 0, 2, 5, 5, 0, 5, 3, 5, 0, 4, 3, 3, 2, 3, 5, 3, 5,\n",
       "       3, 5, 0, 2, 3, 2, 3, 5, 0, 2, 2, 5, 3, 3, 5, 1, 3, 2, 3, 4, 5, 5,\n",
       "       3, 4, 5, 2, 0, 2, 3, 0, 3, 5, 5, 2, 4, 4, 5, 2, 4, 4, 1, 1, 1, 4,\n",
       "       4, 4, 4, 4, 4, 4, 4, 4, 4, 4, 4, 4, 1, 4, 5, 2, 3, 5, 2, 0, 5, 2,\n",
       "       0, 5, 5, 3, 5, 2, 5, 2, 5, 2, 3, 5, 0, 2, 3, 2, 1, 5, 2, 2, 2, 2,\n",
       "       5, 3, 2, 5, 3, 5, 2, 5, 3, 3, 2, 3, 2, 3, 4, 0, 3, 5, 3, 5, 5, 3,\n",
       "       5, 1, 5, 5, 5, 2, 3, 5, 2, 4, 4, 2, 5, 0, 4, 5, 3, 5, 3, 5, 3, 3,\n",
       "       5, 3, 2, 5, 3, 4, 3, 0, 3, 3, 3, 0, 0, 0, 0, 3, 0, 3, 3, 0, 3, 4,\n",
       "       1, 1, 0, 2, 0, 0, 0, 0, 0, 1, 4, 4, 4, 4, 4, 4, 4, 4, 4, 3, 4, 4,\n",
       "       4, 4, 4, 4, 5, 2, 0, 5, 2, 3, 5, 2, 0, 5, 2, 5, 2, 3, 5, 2, 5, 0,\n",
       "       5, 0, 5, 0, 5, 0, 5, 2, 3, 5, 0, 5, 2, 3, 5, 2, 5, 3, 3, 1, 5, 2,\n",
       "       3, 5, 2, 3, 3, 3, 5, 2, 3, 5, 2, 3, 5, 0, 5, 0, 3, 5, 2, 3, 5, 3,\n",
       "       0, 3, 5, 3, 2, 3, 0, 5, 1, 2, 3, 2, 4, 5, 3, 5, 0, 5, 3, 5, 2, 0,\n",
       "       5, 2, 0, 5, 3, 5, 2, 0, 5, 3, 2, 5, 3, 5, 3, 5, 0, 3, 5, 0, 5, 1,\n",
       "       5, 2, 3, 5, 2, 3, 5, 0, 5, 2, 0, 5, 2, 3, 5, 3, 0, 5, 0, 3, 2, 0,\n",
       "       3, 5, 3, 5, 3, 3, 2, 3, 2, 3, 3, 3, 5, 2, 4, 2, 0, 4, 4, 4, 4, 4,\n",
       "       4, 4, 4, 4, 4, 4, 4, 4, 4, 4, 4, 4, 4, 4, 5, 2, 3, 5, 2, 0, 5, 2,\n",
       "       0, 5, 2, 5, 2, 0, 5, 5, 2, 2, 0, 5, 2, 0, 2, 0, 2, 3, 3, 2, 0, 0,\n",
       "       5, 3, 0, 1, 5, 3, 5, 3, 5, 3, 5, 3, 5, 0, 5, 0, 5, 0, 2, 3, 2, 0,\n",
       "       0, 0, 2, 1, 5, 3, 4, 3, 5, 3, 5, 5, 5, 5, 3, 3, 3, 3, 5, 1, 5, 0,\n",
       "       4, 4, 4, 1, 4, 4, 4, 4], dtype=uint16)"
      ]
     },
     "execution_count": 4,
     "metadata": {},
     "output_type": "execute_result"
    }
   ],
   "source": [
    "kproto = KPrototypes(n_clusters = 6, init = 'Cao', n_init = 1, verbose = True)\n",
    "kproto.fit_predict(data.values, categorical = [0,8])"
   ]
  },
  {
   "cell_type": "code",
   "execution_count": null,
   "metadata": {},
   "outputs": [],
   "source": []
  },
  {
   "cell_type": "code",
   "execution_count": 5,
   "metadata": {},
   "outputs": [
    {
     "data": {
      "image/png": "[encoded data removed]",
      "text/plain": [
       "<Figure size 1080x504 with 1 Axes>"
      ]
     },
     "metadata": {
      "needs_background": "light"
     },
     "output_type": "display_data"
    }
   ],
   "source": [
    "plt.figure(figsize=(15,7))\n",
    "for i in set(kproto.labels_):\n",
    "    index = kproto.labels_ == i\n",
    "    plt.plot(data.iloc[index, 0], data.iloc[index, 1], 'o')\n",
    "    plt.suptitle('Comparacion entre variables', fontsize=18)\n",
    "    plt.xlabel('tipo', fontsize=16)\n",
    "    plt.ylabel('total', fontsize=16)\n",
    "plt.show()"
   ]
  },
  {
   "cell_type": "code",
   "execution_count": 6,
   "metadata": {
    "scrolled": true
   },
   "outputs": [
    {
     "data": {
      "text/plain": [
       "[array([[508.56637168,  77.34513274,  76.76106195,  75.39823009,\n",
       "         102.36283186,  90.21238938,  86.48672566],\n",
       "        [537.53846154,  66.42307692,  78.73076923, 159.03846154,\n",
       "          68.03846154, 121.23076923,  44.07692308],\n",
       "        [396.75925926,  64.84567901,  69.9382716 ,  67.77160494,\n",
       "          65.18518519,  65.04320988,  63.97530864],\n",
       "        [486.29299363,  84.78980892, 102.39490446,  85.47133758,\n",
       "          68.06369427,  75.13375796,  70.43949045],\n",
       "        [628.01834862,  90.7706422 , 120.64220183,  95.99082569,\n",
       "         119.34862385,  99.60550459, 101.66055046],\n",
       "        [289.96137339,  48.19313305,  51.17596567,  49.60515021,\n",
       "          45.77253219,  47.15021459,  48.06437768]]),\n",
       " array([['Water', 'False'],\n",
       "        ['Steel', 'False'],\n",
       "        ['Normal', 'False'],\n",
       "        ['Normal', 'False'],\n",
       "        ['Dragon', 'True'],\n",
       "        ['Water', 'False']], dtype='<U6')]"
      ]
     },
     "execution_count": 6,
     "metadata": {},
     "output_type": "execute_result"
    }
   ],
   "source": [
    "kproto.cluster_centroids_"
   ]
  },
  {
   "cell_type": "code",
   "execution_count": 7,
   "metadata": {},
   "outputs": [],
   "source": [
    "kproto?"
   ]
  },
  {
   "cell_type": "code",
   "execution_count": null,
   "metadata": {},
   "outputs": [],
   "source": []
  }
 ],
 "metadata": {
  "kernelspec": {
   "display_name": "Python 3",
   "language": "python",
   "name": "python3"
  },
  "language_info": {
   "codemirror_mode": {
    "name": "ipython",
    "version": 3
   },
   "file_extension": ".py",
   "mimetype": "text/x-python",
   "name": "python",
   "nbconvert_exporter": "python",
   "pygments_lexer": "ipython3",
   "version": "3.7.3"
  },
  "widgets": {
   "state": {},
   "version": "1.1.2"
  }
 },
 "nbformat": 4,
 "nbformat_minor": 2
}
